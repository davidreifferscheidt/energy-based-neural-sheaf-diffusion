{
 "cells": [
  {
   "cell_type": "code",
   "execution_count": 14,
   "metadata": {},
   "outputs": [],
   "source": [
    "import sys\n",
    "sys.path.append(\"/nfs/homedirs/reiffers/consistency-based-sheaf-diffusion\")\n",
    "\n",
    "\n",
    "import os\n",
    "from typing import Optional\n",
    "\n",
    "import torch\n",
    "import torch_geometric.transforms as T\n",
    "import tqdm\n",
    "from omegaconf import OmegaConf\n",
    "from sklearn.decomposition import PCA\n",
    "from torch_geometric.datasets import Planetoid\n",
    "from torch_geometric.transforms.laplacian_lambda_max import LaplacianLambdaMax\n",
    "from cbsd.config import instantiate_datamodule\n",
    "\n",
    "\n",
    "\n",
    "from cbsd.nn.builders import ConsistencyBasedLaplacianBuilder\n",
    "from cbsd.utils.logging import print_config\n"
   ]
  },
  {
   "cell_type": "code",
   "execution_count": 15,
   "metadata": {},
   "outputs": [
    {
     "data": {
      "text/html": [
       "<pre style=\"white-space:pre;overflow-x:auto;line-height:normal;font-family:Menlo,'DejaVu Sans Mono',consolas,'Courier New',monospace\"><span style=\"color: #008000; text-decoration-color: #008000; background-color: #f8f8f8; font-weight: bold\">name</span><span style=\"color: #000000; text-decoration-color: #000000; background-color: #f8f8f8\">:</span><span style=\"color: #bbbbbb; text-decoration-color: #bbbbbb; background-color: #f8f8f8\"> </span><span style=\"background-color: #f8f8f8\">snn                                                                                                          </span>\n",
       "<span style=\"color: #008000; text-decoration-color: #008000; background-color: #f8f8f8; font-weight: bold\">hidden_channels</span><span style=\"color: #000000; text-decoration-color: #000000; background-color: #f8f8f8\">:</span><span style=\"color: #bbbbbb; text-decoration-color: #bbbbbb; background-color: #f8f8f8\"> </span><span style=\"background-color: #f8f8f8\">20                                                                                                </span>\n",
       "<span style=\"color: #008000; text-decoration-color: #008000; background-color: #f8f8f8; font-weight: bold\">num_layers</span><span style=\"color: #000000; text-decoration-color: #000000; background-color: #f8f8f8\">:</span><span style=\"color: #bbbbbb; text-decoration-color: #bbbbbb; background-color: #f8f8f8\"> </span><span style=\"background-color: #f8f8f8\">4                                                                                                      </span>\n",
       "<span style=\"color: #008000; text-decoration-color: #008000; background-color: #f8f8f8; font-weight: bold\">dropout</span><span style=\"color: #000000; text-decoration-color: #000000; background-color: #f8f8f8\">:</span><span style=\"color: #bbbbbb; text-decoration-color: #bbbbbb; background-color: #f8f8f8\"> </span><span style=\"background-color: #f8f8f8\">0.7                                                                                                       </span>\n",
       "<span style=\"color: #008000; text-decoration-color: #008000; background-color: #f8f8f8; font-weight: bold\">input_dropout</span><span style=\"color: #000000; text-decoration-color: #000000; background-color: #f8f8f8\">:</span><span style=\"color: #bbbbbb; text-decoration-color: #bbbbbb; background-color: #f8f8f8\"> </span><span style=\"background-color: #f8f8f8\">0                                                                                                   </span>\n",
       "<span style=\"color: #008000; text-decoration-color: #008000; background-color: #f8f8f8; font-weight: bold\">left_weights</span><span style=\"color: #000000; text-decoration-color: #000000; background-color: #f8f8f8\">:</span><span style=\"color: #bbbbbb; text-decoration-color: #bbbbbb; background-color: #f8f8f8\"> </span><span style=\"background-color: #f8f8f8\">true                                                                                                 </span>\n",
       "<span style=\"color: #008000; text-decoration-color: #008000; background-color: #f8f8f8; font-weight: bold\">right_weights</span><span style=\"color: #000000; text-decoration-color: #000000; background-color: #f8f8f8\">:</span><span style=\"color: #bbbbbb; text-decoration-color: #bbbbbb; background-color: #f8f8f8\"> </span><span style=\"background-color: #f8f8f8\">true                                                                                                </span>\n",
       "<span style=\"color: #008000; text-decoration-color: #008000; background-color: #f8f8f8; font-weight: bold\">use_act</span><span style=\"color: #000000; text-decoration-color: #000000; background-color: #f8f8f8\">:</span><span style=\"color: #bbbbbb; text-decoration-color: #bbbbbb; background-color: #f8f8f8\"> </span><span style=\"background-color: #f8f8f8\">true                                                                                                      </span>\n",
       "<span style=\"color: #008000; text-decoration-color: #008000; background-color: #f8f8f8; font-weight: bold\">sheaf_laplacian</span><span style=\"color: #000000; text-decoration-color: #000000; background-color: #f8f8f8\">:</span><span style=\"background-color: #f8f8f8\">                                                                                                   </span>\n",
       "<span style=\"color: #bbbbbb; text-decoration-color: #bbbbbb; background-color: #f8f8f8\">  </span><span style=\"color: #008000; text-decoration-color: #008000; background-color: #f8f8f8; font-weight: bold\">type</span><span style=\"color: #000000; text-decoration-color: #000000; background-color: #f8f8f8\">:</span><span style=\"color: #bbbbbb; text-decoration-color: #bbbbbb; background-color: #f8f8f8\"> </span><span style=\"background-color: #f8f8f8\">consistent                                                                                                 </span>\n",
       "<span style=\"color: #bbbbbb; text-decoration-color: #bbbbbb; background-color: #f8f8f8\">  </span><span style=\"color: #008000; text-decoration-color: #008000; background-color: #f8f8f8; font-weight: bold\">d</span><span style=\"color: #000000; text-decoration-color: #000000; background-color: #f8f8f8\">:</span><span style=\"color: #bbbbbb; text-decoration-color: #bbbbbb; background-color: #f8f8f8\"> </span><span style=\"background-color: #f8f8f8\">3                                                                                                             </span>\n",
       "<span style=\"color: #bbbbbb; text-decoration-color: #bbbbbb; background-color: #f8f8f8\">  </span><span style=\"color: #008000; text-decoration-color: #008000; background-color: #f8f8f8; font-weight: bold\">normalised</span><span style=\"color: #000000; text-decoration-color: #000000; background-color: #f8f8f8\">:</span><span style=\"color: #bbbbbb; text-decoration-color: #bbbbbb; background-color: #f8f8f8\"> </span><span style=\"background-color: #f8f8f8\">true                                                                                                 </span>\n",
       "<span style=\"color: #bbbbbb; text-decoration-color: #bbbbbb; background-color: #f8f8f8\">  </span><span style=\"color: #008000; text-decoration-color: #008000; background-color: #f8f8f8; font-weight: bold\">deg_normalised</span><span style=\"color: #000000; text-decoration-color: #000000; background-color: #f8f8f8\">:</span><span style=\"color: #bbbbbb; text-decoration-color: #bbbbbb; background-color: #f8f8f8\"> </span><span style=\"background-color: #f8f8f8\">false                                                                                            </span>\n",
       "<span style=\"color: #bbbbbb; text-decoration-color: #bbbbbb; background-color: #f8f8f8\">  </span><span style=\"color: #008000; text-decoration-color: #008000; background-color: #f8f8f8; font-weight: bold\">add_lp</span><span style=\"color: #000000; text-decoration-color: #000000; background-color: #f8f8f8\">:</span><span style=\"color: #bbbbbb; text-decoration-color: #bbbbbb; background-color: #f8f8f8\"> </span><span style=\"background-color: #f8f8f8\">false                                                                                                    </span>\n",
       "<span style=\"color: #bbbbbb; text-decoration-color: #bbbbbb; background-color: #f8f8f8\">  </span><span style=\"color: #008000; text-decoration-color: #008000; background-color: #f8f8f8; font-weight: bold\">add_hp</span><span style=\"color: #000000; text-decoration-color: #000000; background-color: #f8f8f8\">:</span><span style=\"color: #bbbbbb; text-decoration-color: #bbbbbb; background-color: #f8f8f8\"> </span><span style=\"background-color: #f8f8f8\">false                                                                                                    </span>\n",
       "<span style=\"color: #bbbbbb; text-decoration-color: #bbbbbb; background-color: #f8f8f8\">  </span><span style=\"color: #008000; text-decoration-color: #008000; background-color: #f8f8f8; font-weight: bold\">augmented</span><span style=\"color: #000000; text-decoration-color: #000000; background-color: #f8f8f8\">:</span><span style=\"color: #bbbbbb; text-decoration-color: #bbbbbb; background-color: #f8f8f8\"> </span><span style=\"background-color: #f8f8f8\">true                                                                                                  </span>\n",
       "<span style=\"color: #bbbbbb; text-decoration-color: #bbbbbb; background-color: #f8f8f8\">  </span><span style=\"color: #008000; text-decoration-color: #008000; background-color: #f8f8f8; font-weight: bold\">init</span><span style=\"color: #000000; text-decoration-color: #000000; background-color: #f8f8f8\">:</span><span style=\"color: #bbbbbb; text-decoration-color: #bbbbbb; background-color: #f8f8f8\"> </span><span style=\"background-color: #f8f8f8\">random                                                                                                     </span>\n",
       "<span style=\"color: #bbbbbb; text-decoration-color: #bbbbbb; background-color: #f8f8f8\">  </span><span style=\"color: #008000; text-decoration-color: #008000; background-color: #f8f8f8; font-weight: bold\">pretraining</span><span style=\"color: #000000; text-decoration-color: #000000; background-color: #f8f8f8\">:</span><span style=\"background-color: #f8f8f8\">                                                                                                     </span>\n",
       "<span style=\"color: #bbbbbb; text-decoration-color: #bbbbbb; background-color: #f8f8f8\">    </span><span style=\"color: #008000; text-decoration-color: #008000; background-color: #f8f8f8; font-weight: bold\">lambda_reg</span><span style=\"color: #000000; text-decoration-color: #000000; background-color: #f8f8f8\">:</span><span style=\"color: #bbbbbb; text-decoration-color: #bbbbbb; background-color: #f8f8f8\"> </span><span style=\"background-color: #f8f8f8\">0.2                                                                                                </span>\n",
       "<span style=\"color: #bbbbbb; text-decoration-color: #bbbbbb; background-color: #f8f8f8\">    </span><span style=\"color: #008000; text-decoration-color: #008000; background-color: #f8f8f8; font-weight: bold\">reg</span><span style=\"color: #000000; text-decoration-color: #000000; background-color: #f8f8f8\">:</span><span style=\"color: #bbbbbb; text-decoration-color: #bbbbbb; background-color: #f8f8f8\"> </span><span style=\"background-color: #f8f8f8\">matrix                                                                                                    </span>\n",
       "<span style=\"color: #bbbbbb; text-decoration-color: #bbbbbb; background-color: #f8f8f8\">    </span><span style=\"color: #008000; text-decoration-color: #008000; background-color: #f8f8f8; font-weight: bold\">lr</span><span style=\"color: #000000; text-decoration-color: #000000; background-color: #f8f8f8\">:</span><span style=\"color: #bbbbbb; text-decoration-color: #bbbbbb; background-color: #f8f8f8\"> </span><span style=\"background-color: #f8f8f8\">0.1                                                                                                        </span>\n",
       "<span style=\"color: #bbbbbb; text-decoration-color: #bbbbbb; background-color: #f8f8f8\">    </span><span style=\"color: #008000; text-decoration-color: #008000; background-color: #f8f8f8; font-weight: bold\">num_epochs</span><span style=\"color: #000000; text-decoration-color: #000000; background-color: #f8f8f8\">:</span><span style=\"color: #bbbbbb; text-decoration-color: #bbbbbb; background-color: #f8f8f8\"> </span><span style=\"background-color: #f8f8f8\">10                                                                                                 </span>\n",
       "<span style=\"background-color: #f8f8f8\">                                                                                                                   </span>\n",
       "</pre>\n"
      ],
      "text/plain": [
       "\u001b[1;38;2;0;128;0;48;2;248;248;248mname\u001b[0m\u001b[38;2;0;0;0;48;2;248;248;248m:\u001b[0m\u001b[38;2;187;187;187;48;2;248;248;248m \u001b[0m\u001b[48;2;248;248;248msnn                                                                                                          \u001b[0m\n",
       "\u001b[1;38;2;0;128;0;48;2;248;248;248mhidden_channels\u001b[0m\u001b[38;2;0;0;0;48;2;248;248;248m:\u001b[0m\u001b[38;2;187;187;187;48;2;248;248;248m \u001b[0m\u001b[48;2;248;248;248m20                                                                                                \u001b[0m\n",
       "\u001b[1;38;2;0;128;0;48;2;248;248;248mnum_layers\u001b[0m\u001b[38;2;0;0;0;48;2;248;248;248m:\u001b[0m\u001b[38;2;187;187;187;48;2;248;248;248m \u001b[0m\u001b[48;2;248;248;248m4                                                                                                      \u001b[0m\n",
       "\u001b[1;38;2;0;128;0;48;2;248;248;248mdropout\u001b[0m\u001b[38;2;0;0;0;48;2;248;248;248m:\u001b[0m\u001b[38;2;187;187;187;48;2;248;248;248m \u001b[0m\u001b[48;2;248;248;248m0.7                                                                                                       \u001b[0m\n",
       "\u001b[1;38;2;0;128;0;48;2;248;248;248minput_dropout\u001b[0m\u001b[38;2;0;0;0;48;2;248;248;248m:\u001b[0m\u001b[38;2;187;187;187;48;2;248;248;248m \u001b[0m\u001b[48;2;248;248;248m0                                                                                                   \u001b[0m\n",
       "\u001b[1;38;2;0;128;0;48;2;248;248;248mleft_weights\u001b[0m\u001b[38;2;0;0;0;48;2;248;248;248m:\u001b[0m\u001b[38;2;187;187;187;48;2;248;248;248m \u001b[0m\u001b[48;2;248;248;248mtrue                                                                                                 \u001b[0m\n",
       "\u001b[1;38;2;0;128;0;48;2;248;248;248mright_weights\u001b[0m\u001b[38;2;0;0;0;48;2;248;248;248m:\u001b[0m\u001b[38;2;187;187;187;48;2;248;248;248m \u001b[0m\u001b[48;2;248;248;248mtrue                                                                                                \u001b[0m\n",
       "\u001b[1;38;2;0;128;0;48;2;248;248;248muse_act\u001b[0m\u001b[38;2;0;0;0;48;2;248;248;248m:\u001b[0m\u001b[38;2;187;187;187;48;2;248;248;248m \u001b[0m\u001b[48;2;248;248;248mtrue                                                                                                      \u001b[0m\n",
       "\u001b[1;38;2;0;128;0;48;2;248;248;248msheaf_laplacian\u001b[0m\u001b[38;2;0;0;0;48;2;248;248;248m:\u001b[0m\u001b[48;2;248;248;248m                                                                                                   \u001b[0m\n",
       "\u001b[38;2;187;187;187;48;2;248;248;248m  \u001b[0m\u001b[1;38;2;0;128;0;48;2;248;248;248mtype\u001b[0m\u001b[38;2;0;0;0;48;2;248;248;248m:\u001b[0m\u001b[38;2;187;187;187;48;2;248;248;248m \u001b[0m\u001b[48;2;248;248;248mconsistent                                                                                                 \u001b[0m\n",
       "\u001b[38;2;187;187;187;48;2;248;248;248m  \u001b[0m\u001b[1;38;2;0;128;0;48;2;248;248;248md\u001b[0m\u001b[38;2;0;0;0;48;2;248;248;248m:\u001b[0m\u001b[38;2;187;187;187;48;2;248;248;248m \u001b[0m\u001b[48;2;248;248;248m3                                                                                                             \u001b[0m\n",
       "\u001b[38;2;187;187;187;48;2;248;248;248m  \u001b[0m\u001b[1;38;2;0;128;0;48;2;248;248;248mnormalised\u001b[0m\u001b[38;2;0;0;0;48;2;248;248;248m:\u001b[0m\u001b[38;2;187;187;187;48;2;248;248;248m \u001b[0m\u001b[48;2;248;248;248mtrue                                                                                                 \u001b[0m\n",
       "\u001b[38;2;187;187;187;48;2;248;248;248m  \u001b[0m\u001b[1;38;2;0;128;0;48;2;248;248;248mdeg_normalised\u001b[0m\u001b[38;2;0;0;0;48;2;248;248;248m:\u001b[0m\u001b[38;2;187;187;187;48;2;248;248;248m \u001b[0m\u001b[48;2;248;248;248mfalse                                                                                            \u001b[0m\n",
       "\u001b[38;2;187;187;187;48;2;248;248;248m  \u001b[0m\u001b[1;38;2;0;128;0;48;2;248;248;248madd_lp\u001b[0m\u001b[38;2;0;0;0;48;2;248;248;248m:\u001b[0m\u001b[38;2;187;187;187;48;2;248;248;248m \u001b[0m\u001b[48;2;248;248;248mfalse                                                                                                    \u001b[0m\n",
       "\u001b[38;2;187;187;187;48;2;248;248;248m  \u001b[0m\u001b[1;38;2;0;128;0;48;2;248;248;248madd_hp\u001b[0m\u001b[38;2;0;0;0;48;2;248;248;248m:\u001b[0m\u001b[38;2;187;187;187;48;2;248;248;248m \u001b[0m\u001b[48;2;248;248;248mfalse                                                                                                    \u001b[0m\n",
       "\u001b[38;2;187;187;187;48;2;248;248;248m  \u001b[0m\u001b[1;38;2;0;128;0;48;2;248;248;248maugmented\u001b[0m\u001b[38;2;0;0;0;48;2;248;248;248m:\u001b[0m\u001b[38;2;187;187;187;48;2;248;248;248m \u001b[0m\u001b[48;2;248;248;248mtrue                                                                                                  \u001b[0m\n",
       "\u001b[38;2;187;187;187;48;2;248;248;248m  \u001b[0m\u001b[1;38;2;0;128;0;48;2;248;248;248minit\u001b[0m\u001b[38;2;0;0;0;48;2;248;248;248m:\u001b[0m\u001b[38;2;187;187;187;48;2;248;248;248m \u001b[0m\u001b[48;2;248;248;248mrandom                                                                                                     \u001b[0m\n",
       "\u001b[38;2;187;187;187;48;2;248;248;248m  \u001b[0m\u001b[1;38;2;0;128;0;48;2;248;248;248mpretraining\u001b[0m\u001b[38;2;0;0;0;48;2;248;248;248m:\u001b[0m\u001b[48;2;248;248;248m                                                                                                     \u001b[0m\n",
       "\u001b[38;2;187;187;187;48;2;248;248;248m    \u001b[0m\u001b[1;38;2;0;128;0;48;2;248;248;248mlambda_reg\u001b[0m\u001b[38;2;0;0;0;48;2;248;248;248m:\u001b[0m\u001b[38;2;187;187;187;48;2;248;248;248m \u001b[0m\u001b[48;2;248;248;248m0.2                                                                                                \u001b[0m\n",
       "\u001b[38;2;187;187;187;48;2;248;248;248m    \u001b[0m\u001b[1;38;2;0;128;0;48;2;248;248;248mreg\u001b[0m\u001b[38;2;0;0;0;48;2;248;248;248m:\u001b[0m\u001b[38;2;187;187;187;48;2;248;248;248m \u001b[0m\u001b[48;2;248;248;248mmatrix                                                                                                    \u001b[0m\n",
       "\u001b[38;2;187;187;187;48;2;248;248;248m    \u001b[0m\u001b[1;38;2;0;128;0;48;2;248;248;248mlr\u001b[0m\u001b[38;2;0;0;0;48;2;248;248;248m:\u001b[0m\u001b[38;2;187;187;187;48;2;248;248;248m \u001b[0m\u001b[48;2;248;248;248m0.1                                                                                                        \u001b[0m\n",
       "\u001b[38;2;187;187;187;48;2;248;248;248m    \u001b[0m\u001b[1;38;2;0;128;0;48;2;248;248;248mnum_epochs\u001b[0m\u001b[38;2;0;0;0;48;2;248;248;248m:\u001b[0m\u001b[38;2;187;187;187;48;2;248;248;248m \u001b[0m\u001b[48;2;248;248;248m10                                                                                                 \u001b[0m\n",
       "\u001b[48;2;248;248;248m                                                                                                                   \u001b[0m\n"
      ]
     },
     "metadata": {},
     "output_type": "display_data"
    }
   ],
   "source": [
    "root = os.path.dirname(os.getcwd())\n",
    "path = os.path.join(root, \"config/model/snn.yaml\")\n",
    "conf = OmegaConf.load(path)\n",
    "print_config(conf)"
   ]
  },
  {
   "cell_type": "code",
   "execution_count": 23,
   "metadata": {},
   "outputs": [
    {
     "name": "stdout",
     "output_type": "stream",
     "text": [
      "Laplacian Lambda max: 1.9376229047775269\n",
      "cuda\n"
     ]
    },
    {
     "data": {
      "application/vnd.jupyter.widget-view+json": {
       "model_id": "bff8402ce01340ea8d13090cedbf5688",
       "version_major": 2,
       "version_minor": 0
      },
      "text/plain": [
       "Training Progress:   0%|          | 0/60 [00:00<?, ?it/s]"
      ]
     },
     "metadata": {},
     "output_type": "display_data"
    },
    {
     "name": "stdout",
     "output_type": "stream",
     "text": [
      "Epoch 1/60, Loss Total: -2.8215, Loss: 1.3655, Loss Reg: 40.5049\n",
      "Epoch 2/60, Loss Total: -3.5046, Loss: 1.2200, Loss Reg: 46.0253\n",
      "Epoch 3/60, Loss Total: -4.1981, Loss: 1.1044, Loss Reg: 51.9205\n",
      "Epoch 4/60, Loss Total: -4.8841, Loss: 1.0282, Loss Reg: 58.0946\n",
      "Epoch 5/60, Loss Total: -5.5593, Loss: 0.9866, Loss Reg: 64.4725\n",
      "Epoch 6/60, Loss Total: -6.2325, Loss: 0.9635, Loss Reg: 70.9960\n",
      "Epoch 7/60, Loss Total: -6.9101, Loss: 0.9477, Loss Reg: 77.6302\n",
      "Epoch 8/60, Loss Total: -7.5936, Loss: 0.9355, Loss Reg: 84.3549\n",
      "Epoch 9/60, Loss Total: -8.2826, Loss: 0.9257, Loss Reg: 91.1570\n",
      "Epoch 10/60, Loss Total: -8.9767, Loss: 0.9177, Loss Reg: 98.0266\n",
      "Epoch 11/60, Loss Total: -9.6759, Loss: 0.9109, Loss Reg: 104.9563\n",
      "Epoch 12/60, Loss Total: -10.3799, Loss: 0.9044, Loss Reg: 111.9390\n",
      "Epoch 13/60, Loss Total: -11.0887, Loss: 0.8979, Loss Reg: 118.9679\n",
      "Epoch 14/60, Loss Total: -11.8015, Loss: 0.8915, Loss Reg: 126.0376\n",
      "Epoch 15/60, Loss Total: -12.5173, Loss: 0.8856, Loss Reg: 133.1432\n",
      "Epoch 16/60, Loss Total: -13.2356, Loss: 0.8805, Loss Reg: 140.2805\n",
      "Epoch 17/60, Loss Total: -13.9564, Loss: 0.8758, Loss Reg: 147.4459\n",
      "Epoch 18/60, Loss Total: -14.6798, Loss: 0.8709, Loss Reg: 154.6359\n",
      "Epoch 19/60, Loss Total: -15.4060, Loss: 0.8653, Loss Reg: 161.8474\n",
      "Epoch 20/60, Loss Total: -16.1345, Loss: 0.8591, Loss Reg: 169.0772\n",
      "Epoch 21/60, Loss Total: -16.8647, Loss: 0.8528, Loss Reg: 176.3223\n",
      "Epoch 22/60, Loss Total: -17.5960, Loss: 0.8467, Loss Reg: 183.5803\n",
      "Epoch 23/60, Loss Total: -18.3281, Loss: 0.8409, Loss Reg: 190.8492\n",
      "Epoch 24/60, Loss Total: -19.0608, Loss: 0.8354, Loss Reg: 198.1271\n",
      "Epoch 25/60, Loss Total: -19.7942, Loss: 0.8300, Loss Reg: 205.4124\n",
      "Epoch 26/60, Loss Total: -20.5281, Loss: 0.8247, Loss Reg: 212.7036\n",
      "Epoch 27/60, Loss Total: -21.2625, Loss: 0.8194, Loss Reg: 219.9993\n",
      "Epoch 28/60, Loss Total: -21.9973, Loss: 0.8139, Loss Reg: 227.2981\n",
      "Epoch 29/60, Loss Total: -22.7324, Loss: 0.8083, Loss Reg: 234.5987\n",
      "Epoch 30/60, Loss Total: -23.4675, Loss: 0.8028, Loss Reg: 241.8999\n",
      "Epoch 31/60, Loss Total: -24.2025, Loss: 0.7973, Loss Reg: 249.2007\n",
      "Epoch 32/60, Loss Total: -24.9374, Loss: 0.7918, Loss Reg: 256.5004\n",
      "Epoch 33/60, Loss Total: -25.6721, Loss: 0.7864, Loss Reg: 263.7983\n",
      "Epoch 34/60, Loss Total: -26.4063, Loss: 0.7812, Loss Reg: 271.0940\n",
      "Epoch 35/60, Loss Total: -27.1402, Loss: 0.7762, Loss Reg: 278.3870\n",
      "Epoch 36/60, Loss Total: -27.8735, Loss: 0.7713, Loss Reg: 285.6771\n",
      "Epoch 37/60, Loss Total: -28.6063, Loss: 0.7668, Loss Reg: 292.9642\n",
      "Epoch 38/60, Loss Total: -29.3385, Loss: 0.7626, Loss Reg: 300.2481\n",
      "Epoch 39/60, Loss Total: -30.0699, Loss: 0.7589, Loss Reg: 307.5286\n",
      "Epoch 40/60, Loss Total: -30.8005, Loss: 0.7556, Loss Reg: 314.8057\n",
      "Epoch 41/60, Loss Total: -31.5304, Loss: 0.7528, Loss Reg: 322.0792\n",
      "Epoch 42/60, Loss Total: -32.2595, Loss: 0.7504, Loss Reg: 329.3491\n",
      "Epoch 43/60, Loss Total: -32.9878, Loss: 0.7486, Loss Reg: 336.6154\n",
      "Epoch 44/60, Loss Total: -33.7151, Loss: 0.7474, Loss Reg: 343.8779\n",
      "Epoch 45/60, Loss Total: -34.4417, Loss: 0.7466, Loss Reg: 351.1364\n",
      "Epoch 46/60, Loss Total: -35.1674, Loss: 0.7463, Loss Reg: 358.3906\n",
      "Epoch 47/60, Loss Total: -35.8925, Loss: 0.7461, Loss Reg: 365.6402\n",
      "Epoch 48/60, Loss Total: -36.6169, Loss: 0.7462, Loss Reg: 372.8849\n",
      "Epoch 49/60, Loss Total: -37.3407, Loss: 0.7464, Loss Reg: 380.1245\n",
      "Epoch 50/60, Loss Total: -38.0637, Loss: 0.7468, Loss Reg: 387.3586\n",
      "Epoch 51/60, Loss Total: -38.7861, Loss: 0.7473, Loss Reg: 394.5871\n",
      "Epoch 52/60, Loss Total: -39.5079, Loss: 0.7479, Loss Reg: 401.8098\n",
      "Epoch 53/60, Loss Total: -40.2290, Loss: 0.7486, Loss Reg: 409.0266\n",
      "Epoch 54/60, Loss Total: -40.9494, Loss: 0.7493, Loss Reg: 416.2373\n",
      "Epoch 55/60, Loss Total: -41.6692, Loss: 0.7500, Loss Reg: 423.4420\n",
      "Epoch 56/60, Loss Total: -42.3883, Loss: 0.7508, Loss Reg: 430.6405\n",
      "Epoch 57/60, Loss Total: -43.1068, Loss: 0.7516, Loss Reg: 437.8329\n",
      "Epoch 58/60, Loss Total: -43.8247, Loss: 0.7524, Loss Reg: 445.0193\n",
      "Epoch 59/60, Loss Total: -44.5420, Loss: 0.7532, Loss Reg: 452.1996\n",
      "Epoch 60/60, Loss Total: -45.2587, Loss: 0.7541, Loss Reg: 459.3740\n"
     ]
    }
   ],
   "source": [
    " # Load data\n",
    "device = torch.device(\"cuda\" if torch.cuda.is_available() else \"cpu\")\n",
    "dataconfig = OmegaConf.load(\n",
    "    \"/nfs/homedirs/reiffers/consistency-based-sheaf-diffusion/config/data/texas.yaml\"\n",
    ")\n",
    "\n",
    "datamodule = instantiate_datamodule(dataconfig)\n",
    "datamodule.prepare_data()\n",
    "datamodule.setup()\n",
    "\n",
    "lambda_max = LaplacianLambdaMax(normalization=\"sym\", is_undirected=True)\n",
    "datamodule.edge_attr = None\n",
    "lambda_max(datamodule)\n",
    "print(f'Laplacian Lambda max: {datamodule.lambda_max}')\n",
    "\n",
    "# Build Laplacian\n",
    "laplacianconfig = OmegaConf.load(\n",
    "    \"/nfs/homedirs/reiffers/consistency-based-sheaf-diffusion/config/model/snn.yaml\"\n",
    ").sheaf_laplacian\n",
    "\n",
    "builder = ConsistencyBasedLaplacianBuilder(\n",
    "            edge_index=datamodule.edge_index.to(device), config=laplacianconfig\n",
    "        )\n",
    "x = builder.dim_reduction(x=datamodule.x, d=laplacianconfig.d) # TODO: Have the same dimensionality reduction before passing x to the SNN model\n",
    "\n",
    "print(device)\n",
    "builder = builder.to(device)\n",
    "\n",
    "builder.train(x, 0.1, 60, log_every=1, reg=\"matrix\", lambda_reg=0.1, normalize=True)\n",
    "sheaf_laplacian = builder.build_from_maps()"
   ]
  },
  {
   "cell_type": "code",
   "execution_count": 26,
   "metadata": {},
   "outputs": [
    {
     "data": {
      "text/plain": [
       "tensor(466.5425, device='cuda:0', grad_fn=<LinalgVectorNormBackward0>)"
      ]
     },
     "execution_count": 26,
     "metadata": {},
     "output_type": "execute_result"
    }
   ],
   "source": [
    "torch.norm(builder.restriction_maps)"
   ]
  },
  {
   "cell_type": "code",
   "execution_count": 27,
   "metadata": {},
   "outputs": [
    {
     "data": {
      "text/plain": [
       "Parameter containing:\n",
       "tensor([[[ 0.1290,  2.9599,  3.0699],\n",
       "         [ 0.2805,  6.2656,  6.3858],\n",
       "         [ 0.2732,  6.0859,  6.2135]],\n",
       "\n",
       "        [[ 0.2116,  5.7300,  5.6388],\n",
       "         [ 0.2406,  6.4314,  6.3623],\n",
       "         [ 0.2450,  5.9558,  6.0650]],\n",
       "\n",
       "        [[-4.2210,  6.7986,  6.6499],\n",
       "         [-4.4442,  7.0115,  6.9490],\n",
       "         [-4.5615,  7.2073,  6.9247]],\n",
       "\n",
       "        ...,\n",
       "\n",
       "        [[ 6.7115,  6.7746,  6.6561],\n",
       "         [ 6.4921,  6.7083,  6.7597],\n",
       "         [ 6.9384,  6.8358,  6.8788]],\n",
       "\n",
       "        [[ 4.9577,  6.6583,  6.5325],\n",
       "         [ 5.2582,  7.1173,  6.8028],\n",
       "         [ 5.2588,  7.1564,  6.6976]],\n",
       "\n",
       "        [[ 5.6797,  1.7797,  6.4920],\n",
       "         [ 5.3583,  1.5888,  5.8168],\n",
       "         [ 5.6211,  1.7715,  6.5033]]], device='cuda:0', requires_grad=True)"
      ]
     },
     "execution_count": 27,
     "metadata": {},
     "output_type": "execute_result"
    }
   ],
   "source": [
    "builder.restriction_maps"
   ]
  },
  {
   "cell_type": "code",
   "execution_count": 28,
   "metadata": {},
   "outputs": [
    {
     "name": "stdout",
     "output_type": "stream",
     "text": [
      "tensor(False, device='cuda:0')\n",
      "tensor(True, device='cuda:0')\n",
      "torch.Size([141])\n",
      "torch.Size([4881])\n",
      "tensor(True, device='cuda:0')\n"
     ]
    }
   ],
   "source": [
    "# check if any of the restriction maps are all zeros\n",
    "print(torch.any(torch.all(builder.restriction_maps == 0, dim=1)))\n",
    "# check if any of the restriction maps are negative\n",
    "print(torch.any(builder.restriction_maps < 0))\n",
    "# print the negative values\n",
    "print(builder.restriction_maps[builder.restriction_maps < 0].shape)\n",
    "# print the positive values\n",
    "print(builder.restriction_maps[builder.restriction_maps > 0].shape)\n",
    "# check if any of the restriction maps are infinite\n",
    "print(torch.any(torch.all(torch.isfinite(builder.restriction_maps))))\n"
   ]
  },
  {
   "cell_type": "code",
   "execution_count": null,
   "metadata": {},
   "outputs": [],
   "source": []
  },
  {
   "cell_type": "code",
   "execution_count": null,
   "metadata": {},
   "outputs": [],
   "source": []
  }
 ],
 "metadata": {
  "kernelspec": {
   "display_name": "Python 3 (ipykernel)",
   "language": "python",
   "name": "python3"
  },
  "language_info": {
   "codemirror_mode": {
    "name": "ipython",
    "version": 3
   },
   "file_extension": ".py",
   "mimetype": "text/x-python",
   "name": "python",
   "nbconvert_exporter": "python",
   "pygments_lexer": "ipython3",
   "version": "3.10.10"
  }
 },
 "nbformat": 4,
 "nbformat_minor": 4
}
