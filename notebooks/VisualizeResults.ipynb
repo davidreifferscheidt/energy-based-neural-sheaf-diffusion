{
 "cells": [
  {
   "cell_type": "code",
   "execution_count": 1,
   "metadata": {},
   "outputs": [],
   "source": [
    "import itertools\n",
    "from typing import List, Union\n",
    "\n",
    "import pandas as pd\n",
    "import wandb\n",
    "from tabulate import tabulate"
   ]
  },
  {
   "cell_type": "code",
   "execution_count": 2,
   "metadata": {},
   "outputs": [],
   "source": [
    "def get_results(\n",
    "    wandb_group: str,\n",
    "    group_by: Union[str, List[str]],\n",
    "    metric: str = \"test/top1\",\n",
    "    wandb_entity: str = \"consistency-based-sheaf-diffusion\",\n",
    "    wandb_project: str = \"cbsd\",\n",
    ") -> None:\n",
    "    wandb_group_ = wandb_group\n",
    "    filters = {\n",
    "        \"$and\": [\n",
    "            {\"config.wandb/group\": wandb_group_},\n",
    "        ]\n",
    "    }\n",
    "\n",
    "    api = wandb.Api()\n",
    "    runs = api.runs(path=f\"{wandb_entity}/{wandb_project}\", filters=filters)\n",
    "    print(f\"Found {len(runs)} runs\")\n",
    "\n",
    "    api = wandb.Api()\n",
    "\n",
    "    results = []\n",
    "    for run in runs:\n",
    "        result = pd.json_normalize(run.config).to_dict(orient=\"records\")[0]\n",
    "        test_acc = run.summary.get(metric)\n",
    "        if test_acc is None:\n",
    "            if run.history().get(metric) is not None:\n",
    "                test_acc = run.history(keys=[metric], pandas=False)[-1][metric]\n",
    "        result[metric] = test_acc * 100 if test_acc is not None else test_acc\n",
    "        results.append(result)\n",
    "\n",
    "    df = pd.DataFrame(results)\n",
    "    if isinstance(group_by, str):\n",
    "        group_by = [group_by]\n",
    "    df = df.groupby(group_by)\n",
    "    df = (\n",
    "        df[metric]\n",
    "        .agg([\"mean\", \"std\", \"max\", \"min\", \"count\"])\n",
    "        .sort_values(by=\"mean\", ascending=False)\n",
    "    )\n",
    "    return df"
   ]
  },
  {
   "cell_type": "code",
   "execution_count": null,
   "metadata": {},
   "outputs": [],
   "source": [
    "DATASETS = [\n",
    "    \"cora\",\n",
    "]\n",
    "MODELS = [\n",
    "    \"gcn\",\n",
    "]\n",
    "for dataset, model in itertools.product(DATASETS, MODELS):\n",
    "    print(f\"DATASET: {dataset} | MODEL: {model}\")\n",
    "    WANDB_GROUP = f\"{model}_{dataset}\"\n",
    "    GROUP_BY = [\n",
    "        \"model/hidden_channels\",\n",
    "        \"model/num_layers\",\n",
    "        \"task/optimizer/lr\",\n",
    "    ]\n",
    "\n",
    "    results = get_results(wandb_group=WANDB_GROUP, group_by=GROUP_BY)\n",
    "    print(tabulate(results, headers=\"keys\", tablefmt=\"pretty\"))"
   ]
  },
  {
   "cell_type": "code",
   "execution_count": null,
   "metadata": {},
   "outputs": [],
   "source": [
    "WANDB_GROUP = \"filter-model_hparamsearch_texas\"\n",
    "GROUP_BY = [\n",
    "    \"model/dropout\",\n",
    "    \"model/num_layers\",\n",
    "    \"task/optimizer/lr\",\n",
    "    \"task/optimizer/weight_decay\",\n",
    "]\n",
    "\n",
    "results = get_results(wandb_group=WANDB_GROUP, group_by=GROUP_BY)\n",
    "print(tabulate(results, headers=\"keys\", tablefmt=\"pretty\"))"
   ]
  },
  {
   "cell_type": "code",
   "execution_count": null,
   "metadata": {},
   "outputs": [],
   "source": []
  }
 ],
 "metadata": {
  "kernelspec": {
   "display_name": "venv_gsl_3.10.10",
   "language": "python",
   "name": "python3"
  },
  "language_info": {
   "codemirror_mode": {
    "name": "ipython",
    "version": 3
   },
   "file_extension": ".py",
   "mimetype": "text/x-python",
   "name": "python",
   "nbconvert_exporter": "python",
   "pygments_lexer": "ipython3",
   "version": "3.10.10"
  },
  "orig_nbformat": 4
 },
 "nbformat": 4,
 "nbformat_minor": 2
}
